{
 "cells": [
  {
   "cell_type": "markdown",
   "metadata": {},
   "source": [
    "# EXtra-foam azimuthal integration benchmark"
   ]
  },
  {
   "cell_type": "code",
   "execution_count": null,
   "metadata": {},
   "outputs": [],
   "source": [
    "import numpy as np\n",
    "from pyFAI.azimuthalIntegrator import AzimuthalIntegrator as PyfaiAzimuthalIntegrator\n",
    "from scipy.signal import find_peaks\n",
    "import matplotlib.pyplot as plt\n",
    "\n",
    "import extra_foam\n",
    "print(extra_foam.__version__)\n",
    "\n",
    "from extra_foam.algorithms.azimuthal_integ import AzimuthalIntegrator\n",
    "from extra_foam.algorithms import mask_image_data"
   ]
  },
  {
   "cell_type": "code",
   "execution_count": null,
   "metadata": {},
   "outputs": [],
   "source": [
    "img = np.load(\"./jf_ring.npy\")\n",
    "mask = np.zeros_like(img, dtype=bool)\n",
    "mask_image_data(img, out=mask)\n",
    "_, ax = plt.subplots(figsize=(8, 12))\n",
    "ax.imshow(img)"
   ]
  },
  {
   "cell_type": "code",
   "execution_count": null,
   "metadata": {},
   "outputs": [],
   "source": [
    "dist = 1  # sample distance\n",
    "npt = 512  # number of integration points\n",
    "pixel1, pixel2 = 0.75e-6, 0.75e-6  # pixel size (y, x)\n",
    "poni1, poni2 = -34 * pixel1, 1106 * pixel2  # integration center (y, x)"
   ]
  },
  {
   "cell_type": "code",
   "execution_count": null,
   "metadata": {},
   "outputs": [],
   "source": [
    "pyfai_integrator = PyfaiAzimuthalIntegrator(\n",
    "    dist=dist, poni1=poni1, poni2=poni2, pixel1=pixel1, pixel2=pixel2, wavelength=1e-10)\n",
    "\n",
    "%timeit pyfai_integrator.integrate1d(img, npt, mask=mask, unit=\"q_A^-1\")\n",
    "q_gt, I_gt = pyfai_integrator.integrate1d(img, npt, mask=mask, unit=\"q_A^-1\")"
   ]
  },
  {
   "cell_type": "code",
   "execution_count": null,
   "metadata": {},
   "outputs": [],
   "source": [
    "integrator = AzimuthalIntegrator(\n",
    "    dist=dist, poni1=poni1, poni2=poni2, pixel1=pixel1, pixel2=pixel2, wavelength=1e-10)\n",
    "\n",
    "%timeit integrator.integrate1d(img, npt=npt)\n",
    "q, I = integrator.integrate1d(img, npt=npt)"
   ]
  },
  {
   "cell_type": "code",
   "execution_count": null,
   "metadata": {},
   "outputs": [],
   "source": [
    "_, ax = plt.subplots(figsize=(12, 6))\n",
    "\n",
    "ax.plot(1e-10 * q, I, label='EXtra-foam')\n",
    "ax.plot(q_gt, I_gt, label='pyFAI')\n",
    "ax.set_xlabel(\"q (1/A)\", fontsize=16)\n",
    "ax.set_ylabel(\"I (arb.)\", fontsize=16)\n",
    "ax.legend(fontsize=16)"
   ]
  }
 ],
 "metadata": {
  "kernelspec": {
   "display_name": "foam-gcc6",
   "language": "python",
   "name": "foam-gcc6"
  },
  "language_info": {
   "codemirror_mode": {
    "name": "ipython",
    "version": 3
   },
   "file_extension": ".py",
   "mimetype": "text/x-python",
   "name": "python",
   "nbconvert_exporter": "python",
   "pygments_lexer": "ipython3",
   "version": "3.7.6"
  }
 },
 "nbformat": 4,
 "nbformat_minor": 4
}
