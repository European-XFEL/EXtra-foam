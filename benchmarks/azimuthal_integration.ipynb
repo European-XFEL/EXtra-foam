{
 "cells": [
  {
   "cell_type": "markdown",
   "metadata": {},
   "source": [
    "# EXtra-foam azimuthal integration benchmark"
   ]
  },
  {
   "cell_type": "code",
   "execution_count": null,
   "metadata": {},
   "outputs": [],
   "source": [
    "import os.path as osp\n",
    "\n",
    "import numpy as np\n",
    "from pyFAI.azimuthalIntegrator import AzimuthalIntegrator as PyfaiAzimuthalIntegrator\n",
    "from scipy.signal import find_peaks\n",
    "import matplotlib.pyplot as plt\n",
    "\n",
    "import extra_foam\n",
    "print(extra_foam.__version__)\n",
    "\n",
    "from extra_foam.algorithms import AzimuthalIntegrator, ConcentricRingsFinder\n",
    "from extra_foam.algorithms import mask_image_data"
   ]
  },
  {
   "cell_type": "code",
   "execution_count": null,
   "metadata": {},
   "outputs": [],
   "source": [
    "def load_image(filepath):\n",
    "    img = np.load(osp.join(osp.expanduser('~'), filepath))\n",
    "    mask = np.zeros_like(img, dtype=bool)\n",
    "    mask_image_data(img, threshold_mask=(0, 20000), out=mask)\n",
    "    _, ax = plt.subplots(figsize=(12, 12))\n",
    "    ax.imshow(img)\n",
    "    \n",
    "    return img, mask\n",
    "\n",
    "# img, mask = load_image(\"jf_ring.npy\")\n",
    "# cy, cx = -33, 1112\n",
    "# pixel1, pixel2 = 75e-6, 75e-6  # pixel size (y, x)\n",
    "\n",
    "# img, mask = load_image(\"jf_ring_6modules.npy\")\n",
    "# cy, cx = 537, 1132\n",
    "# pixel1, pixel2 = 75e-6, 75e-6  # pixel size (y, x)\n",
    "\n",
    "img, mask = load_image(\"lpd.npy\")\n",
    "cy, cx = 606, 554\n",
    "pixel1, pixel2 = 200e-6, 200e-6  # pixel size (y, x)"
   ]
  },
  {
   "cell_type": "markdown",
   "metadata": {},
   "source": [
    "#### Integrate a single image"
   ]
  },
  {
   "cell_type": "code",
   "execution_count": null,
   "metadata": {},
   "outputs": [],
   "source": [
    "dist = 1  # sample distance\n",
    "npt = 1024  # number of integration points\n",
    "poni1, poni2 = cy * pixel1, cx * pixel2  # integration center (y, x)"
   ]
  },
  {
   "cell_type": "code",
   "execution_count": null,
   "metadata": {},
   "outputs": [],
   "source": [
    "# %%timeit\n",
    "\n",
    "pyfai_method = 'nosplit_csr'\n",
    "pyfai_integrator = PyfaiAzimuthalIntegrator(\n",
    "    dist=dist, poni1=poni1, poni2=poni2, pixel1=pixel1, pixel2=pixel2, wavelength=1e-10)\n",
    "\n",
    "q_gt, I_gt = pyfai_integrator.integrate1d(img, npt, mask=mask, unit=\"q_A^-1\", method=pyfai_method)"
   ]
  },
  {
   "cell_type": "code",
   "execution_count": null,
   "metadata": {},
   "outputs": [],
   "source": [
    "%timeit q_gt, I_gt = pyfai_integrator.integrate1d(img, npt, mask=mask, unit=\"q_A^-1\", method=pyfai_method)"
   ]
  },
  {
   "cell_type": "code",
   "execution_count": null,
   "metadata": {},
   "outputs": [],
   "source": [
    "# %%timeit\n",
    "\n",
    "integrator = AzimuthalIntegrator(\n",
    "    dist=dist, poni1=poni1, poni2=poni2, pixel1=pixel1, pixel2=pixel2, wavelength=1e-10)\n",
    "\n",
    "q, I = integrator.integrate1d(img, npt=npt)"
   ]
  },
  {
   "cell_type": "code",
   "execution_count": null,
   "metadata": {},
   "outputs": [],
   "source": [
    "%timeit q, I = integrator.integrate1d(img, npt=npt)"
   ]
  },
  {
   "cell_type": "code",
   "execution_count": null,
   "metadata": {},
   "outputs": [],
   "source": [
    "_, ax = plt.subplots(figsize=(12, 6))\n",
    "\n",
    "ax.plot(1e-10 * q, I, '-', label='EXtra-foam')\n",
    "ax.plot(q_gt, I_gt, '--', label='pyFAI')\n",
    "ax.set_xlabel(\"q (1/A)\", fontsize=16)\n",
    "ax.set_ylabel(\"I (arb.)\", fontsize=16)\n",
    "ax.legend(fontsize=16)"
   ]
  },
  {
   "cell_type": "markdown",
   "metadata": {},
   "source": [
    "#### Integrate an array of images"
   ]
  },
  {
   "cell_type": "code",
   "execution_count": null,
   "metadata": {},
   "outputs": [],
   "source": [
    "import multiprocessing as mp\n",
    "\n",
    "print(mp.cpu_count())"
   ]
  },
  {
   "cell_type": "code",
   "execution_count": null,
   "metadata": {},
   "outputs": [],
   "source": [
    "img_array = np.tile(img, (40, 1, 1))\n",
    "print(img_array.shape)\n",
    "\n",
    "q_a, I_a = integrator.integrate1d(img_array, npt=npt)\n",
    "np.testing.assert_array_equal(q_a, q)\n",
    "np.testing.assert_array_equal(I_a[0], I)\n",
    "np.testing.assert_array_equal(I_a[39], I)\n",
    "\n",
    "%timeit integrator.integrate1d(img_array, npt=npt)"
   ]
  },
  {
   "cell_type": "markdown",
   "metadata": {},
   "source": [
    "#### Concentric ring finding"
   ]
  },
  {
   "cell_type": "code",
   "execution_count": null,
   "metadata": {},
   "outputs": [],
   "source": [
    "min_count = 500\n",
    "prominence = 100\n",
    "distance = 10\n",
    "\n",
    "finder = ConcentricRingsFinder(pixel2, pixel1)\n",
    "cx, cy = finder.search(img, cx, cy, min_count=min_count)"
   ]
  },
  {
   "cell_type": "code",
   "execution_count": null,
   "metadata": {},
   "outputs": [],
   "source": [
    "%timeit finder.search(img, cx, cy, min_count=min_count)"
   ]
  },
  {
   "cell_type": "code",
   "execution_count": null,
   "metadata": {},
   "outputs": [],
   "source": [
    "q, s = finder.integrate(img, cx, cy, min_count=min_count)\n",
    "\n",
    "i_peaks = find_peaks(s, distance=distance, prominence=prominence)[0]\n",
    "\n",
    "_, ax = plt.subplots(figsize=(12, 6))\n",
    "\n",
    "ax.plot(q, s, '-')\n",
    "ax.plot(q[i_peaks], s[i_peaks], 'x')\n",
    "ax.set_xlabel(\"Radial (pixel)\", fontsize=16)\n",
    "ax.set_ylabel(\"I (arb.)\", fontsize=16)\n",
    "\n",
    "print(\"Optimized cx = \", cx, \", cy = \", cy)"
   ]
  },
  {
   "cell_type": "code",
   "execution_count": null,
   "metadata": {},
   "outputs": [],
   "source": []
  }
 ],
 "metadata": {
  "kernelspec": {
   "display_name": "Python [conda env:foam-test]",
   "language": "python",
   "name": "conda-env-foam-test-py"
  },
  "language_info": {
   "codemirror_mode": {
    "name": "ipython",
    "version": 3
   },
   "file_extension": ".py",
   "mimetype": "text/x-python",
   "name": "python",
   "nbconvert_exporter": "python",
   "pygments_lexer": "ipython3",
   "version": "3.7.7"
  }
 },
 "nbformat": 4,
 "nbformat_minor": 4
}
